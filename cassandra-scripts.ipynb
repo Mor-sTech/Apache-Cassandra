{
 "cells": [
  {
   "cell_type": "code",
   "execution_count": 1,
   "metadata": {},
   "outputs": [],
   "source": [
    "#importando a biblioteca do cassandra que instalamos no python\n",
    "\n",
    "from cassandra.cluster import Cluster\n",
    "import csv"
   ]
  },
  {
   "cell_type": "code",
   "execution_count": 2,
   "metadata": {},
   "outputs": [],
   "source": [
    "#criando a conexao com o cassandra rodando localmente\n",
    "try:\n",
    "    cluster = Cluster(['localhost'], port=9042)\n",
    "    session = cluster.connect()\n",
    "except Exception as e:\n",
    "    print(e)"
   ]
  },
  {
   "cell_type": "code",
   "execution_count": 3,
   "metadata": {},
   "outputs": [],
   "source": [
    "# criando o keyspace\n",
    "try:\n",
    "    session.execute(\"\"\"\n",
    "        CREATE KEYSPACE IF NOT EXISTS imdb\n",
    "        WITH REPLICATION = {\n",
    "            'class' : 'SimpleStrategy',\n",
    "            'replication_factor' : 1\n",
    "        }\n",
    "    \"\"\")\n",
    "except Exception as e:\n",
    "    print(e)"
   ]
  },
  {
   "cell_type": "code",
   "execution_count": 4,
   "metadata": {},
   "outputs": [],
   "source": [
    "#conectando ao keyspace que criamos no passo anterior\n",
    "try:\n",
    "    session.set_keyspace('imdb')\n",
    "except Exception as e:\n",
    "    print(e)"
   ]
  },
  {
   "cell_type": "code",
   "execution_count": 5,
   "metadata": {},
   "outputs": [],
   "source": [
    "#escrevendo nosso comando de criação para a tabela estudante\n",
    "command = \"\"\"\n",
    "CREATE TABLE IF NOT EXISTS imdb.tb_filme (\n",
    "    id_filme UUID PRIMARY KEY,\n",
    "    nome_titulo_filme text,\n",
    "    ano_lancamento_filme text,\n",
    "    indicado_posicao_ranking_filme int,\n",
    "    classificacao_indicativa text,\n",
    "    duracao text,\n",
    "    orcamento text,\n",
    "    bilheteria text,\n",
    "    slogan text\n",
    ");\n",
    "\"\"\""
   ]
  },
  {
   "cell_type": "code",
   "execution_count": 6,
   "metadata": {},
   "outputs": [],
   "source": [
    "#executando o comando em nosso banco de dados\n",
    "try:\n",
    "    session.execute(command)\n",
    "except Exception as e:\n",
    "    print(e)"
   ]
  },
  {
   "cell_type": "code",
   "execution_count": 12,
   "metadata": {},
   "outputs": [],
   "source": [
    "# Para facilitar o entendimento e os trabalhos, escreveremos métodos para cada operação que faremos no banco de dados\n",
    "# Método para inserir um estudante, recebendo um dicionario como parametro com os dados do estudante, reaproveitando a \n",
    "# nossa conexão com o cassandra criada nos steps anteriores\n",
    "\n",
    "def insert_estudante(estudante):\n",
    "    query = \"insert into estudante(matricula, cpf, curso, turno, nome_completo, idade, periodo) values ({}, '{}', '{}', '{}', '{}', {}, {})\".format(\n",
    "        estudante['matricula'],\n",
    "        estudante['cpf'],\n",
    "        estudante['curso'],\n",
    "        estudante['turno'],\n",
    "        estudante['nome_completo'],\n",
    "        estudante['idade'],\n",
    "        estudante['periodo']\n",
    "    )\n",
    "    try:\n",
    "        session.execute(query)\n",
    "        print(\"Estudante inserido com sucesso\")\n",
    "    except Exception as e:\n",
    "        print(e)"
   ]
  },
  {
   "cell_type": "code",
   "execution_count": 13,
   "metadata": {},
   "outputs": [
    {
     "name": "stdout",
     "output_type": "stream",
     "text": [
      "Estudante inserido com sucesso\n"
     ]
    }
   ],
   "source": [
    "# Testando nosso método de inserção de estudante\n",
    "## criando o documento do nosso estudante\n",
    "estudante = {\n",
    "    'matricula': 1234,\n",
    "    'cpf': '123.456.789-00',\n",
    "    'curso': 'Engenharia de Software',\n",
    "    'turno': 'Noturno',\n",
    "    'nome_completo': 'João Machado 98 da Silva',\n",
    "    'idade': 20,\n",
    "    'periodo': 4\n",
    "}\n",
    "## inserindo o estudante\n",
    "insert_estudante(estudante)"
   ]
  },
  {
   "cell_type": "code",
   "execution_count": 15,
   "metadata": {},
   "outputs": [],
   "source": [
    "# Método para listar os estudantes inseridos no banco de dados\n",
    "def select_estudantes():\n",
    "    query = \"select * from estudante\"\n",
    "    try:\n",
    "        rows = session.execute(query)\n",
    "        print(\"Estudantes cadastrados: \")\n",
    "        for row in rows:\n",
    "            print(row)\n",
    "    except Exception as e:\n",
    "        print(e)"
   ]
  },
  {
   "cell_type": "code",
   "execution_count": 16,
   "metadata": {},
   "outputs": [
    {
     "name": "stdout",
     "output_type": "stream",
     "text": [
      "Estudantes cadastrados: \n",
      "Row(matricula=1234, cpf='123.456.789-00', curso='Engenharia de Software', idade=20, nome_completo='João Machado 98 da Silva', periodo=4, turno='Noturno')\n"
     ]
    }
   ],
   "source": [
    "# Testando nosso método de listagem de estudantes\n",
    "select_estudantes()"
   ]
  },
  {
   "cell_type": "code",
   "execution_count": 19,
   "metadata": {},
   "outputs": [],
   "source": [
    "# Método para pesquisar um estudante pela matricula\n",
    "def select_estudante(matricula=None):\n",
    "    query = \"select * from estudante where matricula = {}\".format(matricula)\n",
    "    try:\n",
    "        rows = session.execute(query)\n",
    "        print(\"Estudante encontrado: \")\n",
    "        for row in rows:\n",
    "            print(row)\n",
    "    except Exception as e:\n",
    "        print(e)"
   ]
  },
  {
   "cell_type": "code",
   "execution_count": 20,
   "metadata": {},
   "outputs": [
    {
     "name": "stdout",
     "output_type": "stream",
     "text": [
      "Estudante encontrado: \n",
      "Row(matricula=1234, cpf='123.456.789-00', curso='Engenharia de Software', idade=20, nome_completo='João Machado 98 da Silva', periodo=4, turno='Noturno')\n"
     ]
    }
   ],
   "source": [
    "# Testando nosso método de pesquisa de estudante\n",
    "## Pesquisando pela matricula\n",
    "select_estudante(matricula=1234) "
   ]
  },
  {
   "cell_type": "code",
   "execution_count": 21,
   "metadata": {},
   "outputs": [],
   "source": [
    "# Método para atualizar um estudante\n",
    "def update_estudante(estudante):\n",
    "    query = \"update estudante set curso = '{}', turno = '{}', nome_completo = '{}', idade = {}, periodo = {} where matricula = {} and cpf = '{}'\".format(\n",
    "        estudante['curso'],\n",
    "        estudante['turno'],\n",
    "        estudante['nome_completo'],\n",
    "        estudante['idade'],\n",
    "        estudante['periodo'],\n",
    "        estudante['matricula'],\n",
    "        estudante['cpf']\n",
    "    )\n",
    "    try:\n",
    "        session.execute(query)\n",
    "        print(\"Estudante atualizado com sucesso\")\n",
    "    except Exception as e:\n",
    "        print(e)"
   ]
  },
  {
   "cell_type": "code",
   "execution_count": 23,
   "metadata": {},
   "outputs": [
    {
     "name": "stdout",
     "output_type": "stream",
     "text": [
      "Estudante atualizado com sucesso\n",
      "Estudante encontrado: \n",
      "Row(matricula=1234, cpf='123.456.789-00', curso='Engenharia de Software', idade=21, nome_completo='João Machado 98 da Silva', periodo=5, turno='Noturno')\n"
     ]
    }
   ],
   "source": [
    "# Testando nosso método de atualização de estudante\n",
    "## Criando o evento de atualização do estudante\n",
    "estudante = {\n",
    "    'matricula': 1234,\n",
    "    'cpf': '123.456.789-00',\n",
    "    'curso': 'Engenharia de Software',\n",
    "    'turno': 'Noturno',\n",
    "    'nome_completo': 'João Machado 98 da Silva',\n",
    "    'idade': 21,\n",
    "    'periodo': 5\n",
    "}\n",
    "## Atualizando o estudante\n",
    "update_estudante(estudante)\n",
    "## Reexibindo o estudante para verificar a atualização\n",
    "select_estudante(matricula=1234)"
   ]
  },
  {
   "cell_type": "code",
   "execution_count": 24,
   "metadata": {},
   "outputs": [],
   "source": [
    "# Método para deletar um estudante\n",
    "def delete_estudante(matricula=None):\n",
    "    query = \"delete from estudante where matricula = {}\".format(matricula)\n",
    "    try:\n",
    "        session.execute(query)\n",
    "        print(\"Estudante deletado com sucesso\")\n",
    "    except Exception as e:\n",
    "        print(e)"
   ]
  },
  {
   "cell_type": "code",
   "execution_count": 25,
   "metadata": {},
   "outputs": [
    {
     "name": "stdout",
     "output_type": "stream",
     "text": [
      "Estudante deletado com sucesso\n",
      "Estudantes cadastrados: \n"
     ]
    }
   ],
   "source": [
    "# Testando nosso método de deleção de estudante\n",
    "## Deletando o estudante\n",
    "delete_estudante(matricula=1234)\n",
    "## Reexibindo os estudantes para verificar a deleção\n",
    "select_estudantes()"
   ]
  },
  {
   "cell_type": "code",
   "execution_count": null,
   "metadata": {},
   "outputs": [],
   "source": []
  }
 ],
 "metadata": {
  "kernelspec": {
   "display_name": ".venv",
   "language": "python",
   "name": "python3"
  },
  "language_info": {
   "codemirror_mode": {
    "name": "ipython",
    "version": 3
   },
   "file_extension": ".py",
   "mimetype": "text/x-python",
   "name": "python",
   "nbconvert_exporter": "python",
   "pygments_lexer": "ipython3",
   "version": "3.8.8"
  }
 },
 "nbformat": 4,
 "nbformat_minor": 2
}
